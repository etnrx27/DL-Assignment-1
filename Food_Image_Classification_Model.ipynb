{
 "cells": [
  {
   "cell_type": "markdown",
   "metadata": {},
   "source": [
    "<table class=\"table table-bordered\">\n",
    "    <tr>\n",
    "        <th style=\"text-align:center; width:25%\"><img src='https://www.np.edu.sg/PublishingImages/Pages/default/odp/ICT.jpg' style=\"width: 250px; height: 125px; \"></th>\n",
    "        <th style=\"text-align:center;\"><h1>Deep Learning</h1><h2>Assignment 1 - Food Classification Model (Individual)</h2><h3>AY2021/22 Semester</h3></th>\n",
    "    </tr>\n",
    "</table>"
   ]
  },
  {
   "cell_type": "code",
   "execution_count": 1,
   "metadata": {},
   "outputs": [],
   "source": [
    "# Import the Required Package\n",
    "import os\n",
    "import numpy as np\n",
    "from tensorflow.keras import layers\n",
    "from tensorflow.keras import models\n",
    "from tensorflow.keras import optimizers\n",
    "from tensorflow.keras import regularizers\n",
    "from tensorflow.keras.preprocessing.image import ImageDataGenerator\n",
    "from tensorflow.keras.applications import VGG16\n",
    "from tensorflow.keras.models import load_model\n",
    "import matplotlib.pyplot as plt"
   ]
  },
  {
   "cell_type": "markdown",
   "metadata": {},
   "source": [
    "## Step 1: Data Loading"
   ]
  },
  {
   "cell_type": "code",
   "execution_count": 2,
   "metadata": {},
   "outputs": [],
   "source": [
    "base_dir = \"C:\\DL\\Asg1\"\n",
    "train_dir = os.path.join(base_dir, 'train')\n",
    "validation_dir = os.path.join(base_dir, 'validation')\n",
    "test_dir = os.path.join(base_dir, 'test')\n",
    "img_size = 150"
   ]
  },
  {
   "cell_type": "markdown",
   "metadata": {},
   "source": [
    "## Step 2:  Develop the Image Classification Models"
   ]
  },
  {
   "cell_type": "markdown",
   "metadata": {},
   "source": [
    "### Model #1"
   ]
  },
  {
   "cell_type": "code",
   "execution_count": 3,
   "metadata": {},
   "outputs": [
    {
     "name": "stdout",
     "output_type": "stream",
     "text": [
      "Model: \"sequential\"\n",
      "_________________________________________________________________\n",
      "Layer (type)                 Output Shape              Param #   \n",
      "=================================================================\n",
      "conv2d (Conv2D)              (None, 148, 148, 64)      1792      \n",
      "_________________________________________________________________\n",
      "max_pooling2d (MaxPooling2D) (None, 74, 74, 64)        0         \n",
      "_________________________________________________________________\n",
      "conv2d_1 (Conv2D)            (None, 72, 72, 128)       73856     \n",
      "_________________________________________________________________\n",
      "max_pooling2d_1 (MaxPooling2 (None, 36, 36, 128)       0         \n",
      "_________________________________________________________________\n",
      "conv2d_2 (Conv2D)            (None, 34, 34, 256)       295168    \n",
      "_________________________________________________________________\n",
      "max_pooling2d_2 (MaxPooling2 (None, 17, 17, 256)       0         \n",
      "_________________________________________________________________\n",
      "conv2d_3 (Conv2D)            (None, 15, 15, 512)       1180160   \n",
      "_________________________________________________________________\n",
      "max_pooling2d_3 (MaxPooling2 (None, 7, 7, 512)         0         \n",
      "_________________________________________________________________\n",
      "conv2d_4 (Conv2D)            (None, 5, 5, 512)         2359808   \n",
      "_________________________________________________________________\n",
      "max_pooling2d_4 (MaxPooling2 (None, 2, 2, 512)         0         \n",
      "_________________________________________________________________\n",
      "flatten (Flatten)            (None, 2048)              0         \n",
      "_________________________________________________________________\n",
      "dense (Dense)                (None, 256)               524544    \n",
      "_________________________________________________________________\n",
      "dropout (Dropout)            (None, 256)               0         \n",
      "_________________________________________________________________\n",
      "dense_1 (Dense)              (None, 256)               65792     \n",
      "_________________________________________________________________\n",
      "dropout_1 (Dropout)          (None, 256)               0         \n",
      "_________________________________________________________________\n",
      "dense_2 (Dense)              (None, 10)                2570      \n",
      "=================================================================\n",
      "Total params: 4,503,690\n",
      "Trainable params: 4,503,690\n",
      "Non-trainable params: 0\n",
      "_________________________________________________________________\n"
     ]
    }
   ],
   "source": [
    "# Build the Model\n",
    "'''\n",
    "model = models.Sequential()\n",
    "model.add(layers.Conv2D(32,(3,3), activation='relu', input_shape = (img_size, img_size, 3)))\n",
    "model.add(layers.MaxPooling2D((2,2)))\n",
    "model.add(layers.Conv2D(64,(3,3), activation='relu'))\n",
    "model.add(layers.MaxPooling2D((2,2)))\n",
    "model.add(layers.Conv2D(128,(3,3), activation='relu'))\n",
    "model.add(layers.MaxPooling2D((2,2)))\n",
    "model.add(layers.Conv2D(256,(3,3), activation='relu'))\n",
    "model.add(layers.MaxPooling2D((2,2)))\n",
    "model.add(layers.Conv2D(512,(3,3), activation='relu')) \n",
    "model.add(layers.MaxPooling2D((2,2)))\n",
    "model.add(layers.Flatten())\n",
    "model.add(layers.Dense(256, activation = 'relu'))\n",
    "model.add(layers.Dense(256, activation = 'relu'))\n",
    "model.add(layers.Dense(10, activation = 'softmax'))\n",
    "model.summary()\n",
    "'''\n",
    "\n",
    "#Build the Model\n",
    "model = models.Sequential()\n",
    "model.add(layers.Conv2D(64,(3,3), activation='relu', input_shape = (img_size, img_size, 3)))\n",
    "model.add(layers.MaxPooling2D((2,2)))\n",
    "model.add(layers.Conv2D(128,(3,3), activation='relu'))\n",
    "model.add(layers.MaxPooling2D((2,2)))\n",
    "model.add(layers.Conv2D(256,(3,3), activation='relu'))\n",
    "model.add(layers.MaxPooling2D((2,2)))\n",
    "model.add(layers.Conv2D(512,(3,3), activation='relu'))\n",
    "model.add(layers.MaxPooling2D((2,2)))\n",
    "model.add(layers.Conv2D(512,(3,3), activation='relu')) \n",
    "model.add(layers.MaxPooling2D((2,2)))\n",
    "model.add(layers.Flatten())\n",
    "#model.add(layers.Dense(256, activation = 'relu'))\n",
    "#model.add(layers.Dropout(0.2))\n",
    "#model.add(layers.Dense(256, activation = 'relu'))\n",
    "model.add(layers.Dense(256,kernel_regularizer=regularizers.l2(0.0001), activation = 'relu'))\n",
    "model.add(layers.Dropout(0.3))\n",
    "model.add(layers.Dense(256,kernel_regularizer=regularizers.l2(0.0001), activation = 'relu'))\n",
    "model.add(layers.Dropout(0.3))\n",
    "model.add(layers.Dense(10,kernel_regularizer=regularizers.l2(0.0001), activation = 'softmax'))\n",
    "#model.add(layers.Dropout(0.1))\n",
    "model.summary()\n"
   ]
  },
  {
   "cell_type": "code",
   "execution_count": 4,
   "metadata": {},
   "outputs": [],
   "source": [
    "#Compiling the Model\n",
    "model.compile(optimizer = optimizers.RMSprop(lr=0.0001), loss = \"categorical_crossentropy\", metrics=[\"acc\"])\n",
    "#Compiling the Model\n",
    "#model.compile(optimizer = \"rmsprop\", loss = \"categorical_crossentropy\", metrics=[\"acc\"])"
   ]
  },
  {
   "cell_type": "code",
   "execution_count": 5,
   "metadata": {},
   "outputs": [
    {
     "name": "stdout",
     "output_type": "stream",
     "text": [
      "Found 7500 images belonging to 10 classes.\n",
      "Found 2000 images belonging to 10 classes.\n"
     ]
    }
   ],
   "source": [
    "# Train the Model\n",
    "\n",
    "train_data = ImageDataGenerator(rescale=1./255,\n",
    "    rotation_range=40,\n",
    "    width_shift_range=0.2,\n",
    "    height_shift_range=0.2,\n",
    "    shear_range=0.2,\n",
    "    zoom_range=0.2,\n",
    "    horizontal_flip=True,)\n",
    "\n",
    "#train_data = ImageDataGenerator(rescale=1./255)\n",
    "validation_data = ImageDataGenerator(rescale=1./255)\n",
    "\n",
    "train_data_generator = train_data.flow_from_directory(train_dir, target_size=(img_size,img_size),\n",
    "                                                      batch_size = 25, class_mode ='categorical')\n",
    "validation_data_generator = validation_data.flow_from_directory(validation_dir, target_size=(img_size,img_size),\n",
    "                                                   batch_size=25, class_mode='categorical')\n"
   ]
  },
  {
   "cell_type": "code",
   "execution_count": 6,
   "metadata": {},
   "outputs": [
    {
     "name": "stdout",
     "output_type": "stream",
     "text": [
      "data batch shape: (25, 150, 150, 3)\n",
      "labels batch shape: (25, 10)\n"
     ]
    }
   ],
   "source": [
    "# Checking Generated Data Output \n",
    "for data_batch, labels_batch in train_data_generator:\n",
    "    print('data batch shape:', data_batch.shape)\n",
    "    print('labels batch shape:', labels_batch.shape)\n",
    "    break\n",
    "#Check to see if the shapes are correct\n",
    "#First value shows the batch size\n",
    "#The rest of the values shows the shape "
   ]
  },
  {
   "cell_type": "code",
   "execution_count": 7,
   "metadata": {},
   "outputs": [
    {
     "name": "stdout",
     "output_type": "stream",
     "text": [
      "Train for 300 steps, validate for 80 steps\n",
      "Epoch 1/50\n",
      "300/300 [==============================] - 173s 576ms/step - loss: 2.2962 - acc: 0.1596 - val_loss: 2.1583 - val_acc: 0.2310\n",
      "Epoch 2/50\n",
      "300/300 [==============================] - 200s 666ms/step - loss: 2.1513 - acc: 0.2361 - val_loss: 2.0454 - val_acc: 0.2590\n",
      "Epoch 3/50\n",
      "300/300 [==============================] - 191s 638ms/step - loss: 2.0862 - acc: 0.2667 - val_loss: 1.9743 - val_acc: 0.2970\n",
      "Epoch 4/50\n",
      "300/300 [==============================] - 199s 665ms/step - loss: 2.0357 - acc: 0.2885 - val_loss: 1.9589 - val_acc: 0.3305\n",
      "Epoch 5/50\n",
      "300/300 [==============================] - 197s 657ms/step - loss: 1.9827 - acc: 0.3129 - val_loss: 1.8892 - val_acc: 0.3335\n",
      "Epoch 6/50\n",
      "300/300 [==============================] - 201s 669ms/step - loss: 1.9360 - acc: 0.3303 - val_loss: 1.8345 - val_acc: 0.3830\n",
      "Epoch 7/50\n",
      "300/300 [==============================] - 202s 673ms/step - loss: 1.8921 - acc: 0.3584 - val_loss: 1.7718 - val_acc: 0.3980\n",
      "Epoch 8/50\n",
      "300/300 [==============================] - 200s 665ms/step - loss: 1.8364 - acc: 0.3747 - val_loss: 1.6950 - val_acc: 0.4235\n",
      "Epoch 9/50\n",
      "300/300 [==============================] - 201s 669ms/step - loss: 1.8174 - acc: 0.3841 - val_loss: 1.6545 - val_acc: 0.4450\n",
      "Epoch 10/50\n",
      "300/300 [==============================] - 200s 667ms/step - loss: 1.7637 - acc: 0.4004 - val_loss: 1.5777 - val_acc: 0.4825\n",
      "Epoch 11/50\n",
      "300/300 [==============================] - 200s 665ms/step - loss: 1.7357 - acc: 0.4149 - val_loss: 1.6130 - val_acc: 0.4650\n",
      "Epoch 12/50\n",
      "300/300 [==============================] - 208s 692ms/step - loss: 1.7122 - acc: 0.4292 - val_loss: 1.6314 - val_acc: 0.4685\n",
      "Epoch 13/50\n",
      "300/300 [==============================] - 191s 635ms/step - loss: 1.6887 - acc: 0.4313 - val_loss: 1.6004 - val_acc: 0.4600\n",
      "Epoch 14/50\n",
      "300/300 [==============================] - 196s 653ms/step - loss: 1.6467 - acc: 0.4489 - val_loss: 1.5409 - val_acc: 0.4920\n",
      "Epoch 15/50\n",
      "300/300 [==============================] - 200s 666ms/step - loss: 1.6096 - acc: 0.4655 - val_loss: 1.7165 - val_acc: 0.4250\n",
      "Epoch 16/50\n",
      "300/300 [==============================] - 202s 672ms/step - loss: 1.5920 - acc: 0.4699 - val_loss: 1.5643 - val_acc: 0.4785\n",
      "Epoch 17/50\n",
      "300/300 [==============================] - 199s 665ms/step - loss: 1.5755 - acc: 0.4717 - val_loss: 1.6269 - val_acc: 0.4815\n",
      "Epoch 18/50\n",
      "300/300 [==============================] - 199s 664ms/step - loss: 1.5378 - acc: 0.4869 - val_loss: 1.5082 - val_acc: 0.5125\n",
      "Epoch 19/50\n",
      "300/300 [==============================] - 210s 700ms/step - loss: 1.5237 - acc: 0.4971 - val_loss: 1.4452 - val_acc: 0.5395\n",
      "Epoch 20/50\n",
      "300/300 [==============================] - 201s 669ms/step - loss: 1.4942 - acc: 0.5061 - val_loss: 1.7786 - val_acc: 0.4415\n",
      "Epoch 21/50\n",
      "300/300 [==============================] - 228s 761ms/step - loss: 1.4819 - acc: 0.5064 - val_loss: 1.3874 - val_acc: 0.5455\n",
      "Epoch 22/50\n",
      "300/300 [==============================] - 209s 695ms/step - loss: 1.4492 - acc: 0.5203 - val_loss: 1.3648 - val_acc: 0.5525\n",
      "Epoch 23/50\n",
      "300/300 [==============================] - 210s 701ms/step - loss: 1.4266 - acc: 0.5296 - val_loss: 1.5489 - val_acc: 0.5015\n",
      "Epoch 24/50\n",
      "300/300 [==============================] - 216s 718ms/step - loss: 1.4117 - acc: 0.5372 - val_loss: 1.5271 - val_acc: 0.5250\n",
      "Epoch 25/50\n",
      "300/300 [==============================] - 210s 700ms/step - loss: 1.3955 - acc: 0.5421 - val_loss: 1.3521 - val_acc: 0.5565\n",
      "Epoch 26/50\n",
      "300/300 [==============================] - 192s 639ms/step - loss: 1.3828 - acc: 0.5507 - val_loss: 1.5173 - val_acc: 0.5200\n",
      "Epoch 27/50\n",
      "300/300 [==============================] - 206s 687ms/step - loss: 1.3589 - acc: 0.5605 - val_loss: 1.2638 - val_acc: 0.5895\n",
      "Epoch 28/50\n",
      "300/300 [==============================] - 192s 642ms/step - loss: 1.3298 - acc: 0.5637 - val_loss: 1.3510 - val_acc: 0.5650\n",
      "Epoch 29/50\n",
      "300/300 [==============================] - 192s 640ms/step - loss: 1.3257 - acc: 0.5691 - val_loss: 1.4125 - val_acc: 0.5465\n",
      "Epoch 30/50\n",
      "300/300 [==============================] - 193s 642ms/step - loss: 1.3047 - acc: 0.5728 - val_loss: 1.3828 - val_acc: 0.5590\n",
      "Epoch 31/50\n",
      "300/300 [==============================] - 192s 639ms/step - loss: 1.2916 - acc: 0.5804 - val_loss: 1.3475 - val_acc: 0.5780\n",
      "Epoch 32/50\n",
      "300/300 [==============================] - 197s 656ms/step - loss: 1.2719 - acc: 0.5847 - val_loss: 1.4188 - val_acc: 0.5575\n",
      "Epoch 33/50\n",
      "300/300 [==============================] - 209s 695ms/step - loss: 1.2659 - acc: 0.5913 - val_loss: 1.3995 - val_acc: 0.5595\n",
      "Epoch 34/50\n",
      "300/300 [==============================] - 197s 657ms/step - loss: 1.2485 - acc: 0.6007 - val_loss: 1.3957 - val_acc: 0.5660\n",
      "Epoch 35/50\n",
      "300/300 [==============================] - 192s 640ms/step - loss: 1.2340 - acc: 0.6005 - val_loss: 1.3403 - val_acc: 0.5885\n",
      "Epoch 36/50\n",
      "300/300 [==============================] - 203s 675ms/step - loss: 1.2110 - acc: 0.6088 - val_loss: 1.3749 - val_acc: 0.5575\n",
      "Epoch 37/50\n",
      "300/300 [==============================] - 209s 697ms/step - loss: 1.1935 - acc: 0.6151 - val_loss: 1.5200 - val_acc: 0.5300\n",
      "Epoch 38/50\n",
      "300/300 [==============================] - 193s 643ms/step - loss: 1.1863 - acc: 0.6133 - val_loss: 1.2544 - val_acc: 0.6025\n",
      "Epoch 39/50\n",
      "300/300 [==============================] - 191s 638ms/step - loss: 1.1806 - acc: 0.6252 - val_loss: 1.5131 - val_acc: 0.5265\n",
      "Epoch 40/50\n",
      "300/300 [==============================] - 201s 669ms/step - loss: 1.1645 - acc: 0.6285 - val_loss: 1.6467 - val_acc: 0.4875\n",
      "Epoch 41/50\n",
      "300/300 [==============================] - 209s 697ms/step - loss: 1.1517 - acc: 0.6359 - val_loss: 1.1550 - val_acc: 0.6380\n",
      "Epoch 42/50\n",
      "300/300 [==============================] - 192s 639ms/step - loss: 1.1479 - acc: 0.6375 - val_loss: 1.3288 - val_acc: 0.5900\n",
      "Epoch 43/50\n",
      "300/300 [==============================] - 196s 655ms/step - loss: 1.1170 - acc: 0.6387 - val_loss: 1.3578 - val_acc: 0.5815\n",
      "Epoch 44/50\n",
      "300/300 [==============================] - 200s 667ms/step - loss: 1.1236 - acc: 0.6396 - val_loss: 1.4047 - val_acc: 0.5720\n",
      "Epoch 45/50\n",
      "300/300 [==============================] - 214s 714ms/step - loss: 1.1011 - acc: 0.6467 - val_loss: 1.4138 - val_acc: 0.5610\n",
      "Epoch 46/50\n",
      "300/300 [==============================] - 191s 638ms/step - loss: 1.1005 - acc: 0.6549 - val_loss: 1.5773 - val_acc: 0.5435\n",
      "Epoch 47/50\n",
      "300/300 [==============================] - 206s 688ms/step - loss: 1.0889 - acc: 0.6499 - val_loss: 1.2660 - val_acc: 0.6070\n",
      "Epoch 48/50\n",
      "300/300 [==============================] - 203s 675ms/step - loss: 1.0767 - acc: 0.6533 - val_loss: 1.1977 - val_acc: 0.6405\n",
      "Epoch 49/50\n",
      "300/300 [==============================] - 191s 638ms/step - loss: 1.0480 - acc: 0.6647 - val_loss: 1.3242 - val_acc: 0.5945\n",
      "Epoch 50/50\n",
      "300/300 [==============================] - 206s 688ms/step - loss: 1.0317 - acc: 0.6684 - val_loss: 1.1521 - val_acc: 0.6360\n"
     ]
    }
   ],
   "source": [
    "# Fitting the Model\n",
    "food_model_1_history = model.fit(train_data_generator, steps_per_epoch=300 , epochs=50,\n",
    "                                 validation_data = validation_data_generator, validation_steps=80)"
   ]
  },
  {
   "cell_type": "code",
   "execution_count": 8,
   "metadata": {
    "scrolled": true
   },
   "outputs": [
    {
     "data": {
      "image/png": "[encoded data removed]",
      "text/plain": [
       "<Figure size 432x288 with 1 Axes>"
      ]
     },
     "metadata": {
      "needs_background": "light"
     },
     "output_type": "display_data"
    },
    {
     "data": {
      "image/png": "[encoded data removed]",
      "text/plain": [
       "<Figure size 432x288 with 1 Axes>"
      ]
     },
     "metadata": {
      "needs_background": "light"
     },
     "output_type": "display_data"
    }
   ],
   "source": [
    "# Plot the Training and Validation Accuracy & Loss Scores\n",
    "%matplotlib inline\n",
    "\n",
    "acc = food_model_1_history.history['acc']\n",
    "val_acc = food_model_1_history.history['val_acc']\n",
    "loss = food_model_1_history.history['loss']\n",
    "val_loss = food_model_1_history.history['val_loss']\n",
    "epochs = range(len(acc))\n",
    "\n",
    "plt.plot(epochs, acc, 'r', label='Training acc')\n",
    "plt.plot(epochs, val_acc, 'b', label='Validation acc')\n",
    "plt.title('Training and validation accuracy')\n",
    "plt.legend()\n",
    "\n",
    "plt.figure()\n",
    "\n",
    "plt.plot(epochs, loss, 'r', label='Training loss')\n",
    "plt.plot(epochs, val_loss, 'b', label='Validation loss')\n",
    "plt.title('Training and validation loss')\n",
    "plt.legend()\n",
    "\n",
    "plt.show()"
   ]
  },
  {
   "cell_type": "code",
   "execution_count": 9,
   "metadata": {},
   "outputs": [],
   "source": [
    "# Save the Model\n",
    "model.save('food_model_1.h5')"
   ]
  },
  {
   "cell_type": "markdown",
   "metadata": {},
   "source": [
    "### Model #2"
   ]
  },
  {
   "cell_type": "code",
   "execution_count": 10,
   "metadata": {},
   "outputs": [
    {
     "name": "stdout",
     "output_type": "stream",
     "text": [
      "Model: \"vgg16\"\n",
      "_________________________________________________________________\n",
      "Layer (type)                 Output Shape              Param #   \n",
      "=================================================================\n",
      "input_1 (InputLayer)         [(None, 150, 150, 3)]     0         \n",
      "_________________________________________________________________\n",
      "block1_conv1 (Conv2D)        (None, 150, 150, 64)      1792      \n",
      "_________________________________________________________________\n",
      "block1_conv2 (Conv2D)        (None, 150, 150, 64)      36928     \n",
      "_________________________________________________________________\n",
      "block1_pool (MaxPooling2D)   (None, 75, 75, 64)        0         \n",
      "_________________________________________________________________\n",
      "block2_conv1 (Conv2D)        (None, 75, 75, 128)       73856     \n",
      "_________________________________________________________________\n",
      "block2_conv2 (Conv2D)        (None, 75, 75, 128)       147584    \n",
      "_________________________________________________________________\n",
      "block2_pool (MaxPooling2D)   (None, 37, 37, 128)       0         \n",
      "_________________________________________________________________\n",
      "block3_conv1 (Conv2D)        (None, 37, 37, 256)       295168    \n",
      "_________________________________________________________________\n",
      "block3_conv2 (Conv2D)        (None, 37, 37, 256)       590080    \n",
      "_________________________________________________________________\n",
      "block3_conv3 (Conv2D)        (None, 37, 37, 256)       590080    \n",
      "_________________________________________________________________\n",
      "block3_pool (MaxPooling2D)   (None, 18, 18, 256)       0         \n",
      "_________________________________________________________________\n",
      "block4_conv1 (Conv2D)        (None, 18, 18, 512)       1180160   \n",
      "_________________________________________________________________\n",
      "block4_conv2 (Conv2D)        (None, 18, 18, 512)       2359808   \n",
      "_________________________________________________________________\n",
      "block4_conv3 (Conv2D)        (None, 18, 18, 512)       2359808   \n",
      "_________________________________________________________________\n",
      "block4_pool (MaxPooling2D)   (None, 9, 9, 512)         0         \n",
      "_________________________________________________________________\n",
      "block5_conv1 (Conv2D)        (None, 9, 9, 512)         2359808   \n",
      "_________________________________________________________________\n",
      "block5_conv2 (Conv2D)        (None, 9, 9, 512)         2359808   \n",
      "_________________________________________________________________\n",
      "block5_conv3 (Conv2D)        (None, 9, 9, 512)         2359808   \n",
      "_________________________________________________________________\n",
      "block5_pool (MaxPooling2D)   (None, 4, 4, 512)         0         \n",
      "=================================================================\n",
      "Total params: 14,714,688\n",
      "Trainable params: 14,714,688\n",
      "Non-trainable params: 0\n",
      "_________________________________________________________________\n"
     ]
    }
   ],
   "source": [
    "# Building the VGG16 Model\n",
    "conv_base = VGG16(weights='imagenet', include_top=False, #Place at False since we are only using 10 of our own classes\n",
    "                  input_shape=(img_size, img_size, 3)) #Pictures are in 3D for it is colour \n",
    "conv_base.summary()"
   ]
  },
  {
   "cell_type": "code",
   "execution_count": 11,
   "metadata": {},
   "outputs": [
    {
     "name": "stdout",
     "output_type": "stream",
     "text": [
      "Model: \"sequential_1\"\n",
      "_________________________________________________________________\n",
      "Layer (type)                 Output Shape              Param #   \n",
      "=================================================================\n",
      "vgg16 (Model)                (None, 4, 4, 512)         14714688  \n",
      "_________________________________________________________________\n",
      "flatten_1 (Flatten)          (None, 8192)              0         \n",
      "_________________________________________________________________\n",
      "dense_3 (Dense)              (None, 512)               4194816   \n",
      "_________________________________________________________________\n",
      "dropout_2 (Dropout)          (None, 512)               0         \n",
      "_________________________________________________________________\n",
      "dense_4 (Dense)              (None, 512)               262656    \n",
      "_________________________________________________________________\n",
      "dropout_3 (Dropout)          (None, 512)               0         \n",
      "_________________________________________________________________\n",
      "dense_5 (Dense)              (None, 10)                5130      \n",
      "_________________________________________________________________\n",
      "dropout_4 (Dropout)          (None, 10)                0         \n",
      "=================================================================\n",
      "Total params: 19,177,290\n",
      "Trainable params: 19,177,290\n",
      "Non-trainable params: 0\n",
      "_________________________________________________________________\n"
     ]
    }
   ],
   "source": [
    "#Building the Model\n",
    "model2 = models.Sequential()\n",
    "model2.add(conv_base)\n",
    "model2.add(layers.Flatten()) #Makes it a 1D tensor\n",
    "model2.add(layers.Dense(512, kernel_regularizer=regularizers.l2(0.01), activation='relu' ))\n",
    "model2.add(layers.Dropout(0.2))\n",
    "model2.add(layers.Dense(512, kernel_regularizer=regularizers.l2(0.01), activation='relu'))\n",
    "model2.add(layers.Dropout(0.2))\n",
    "model2.add(layers.Dense(10, kernel_regularizer=regularizers.l2(0.01), activation='softmax'))\n",
    "model2.add(layers.Dropout(0.1))\n",
    "model2.summary()\n",
    "  "
   ]
  },
  {
   "cell_type": "code",
   "execution_count": 12,
   "metadata": {},
   "outputs": [
    {
     "name": "stdout",
     "output_type": "stream",
     "text": [
      "Found 7500 images belonging to 10 classes.\n",
      "Found 2000 images belonging to 10 classes.\n"
     ]
    }
   ],
   "source": [
    "# Train the Model\n",
    "\n",
    "train_datagen = ImageDataGenerator(\n",
    "      rescale=1./255,\n",
    "      rotation_range=40,\n",
    "      width_shift_range=0.2,\n",
    "      height_shift_range=0.2,\n",
    "      shear_range=0.2,\n",
    "      zoom_range=0.2,\n",
    "      horizontal_flip=True,\n",
    "      fill_mode='nearest')\n",
    "\n",
    "#train_datagen = ImageDataGenerator(rescale=1./255)\n",
    "validation_datagen = ImageDataGenerator(rescale=1./255)\n",
    "\n",
    "train_generator = train_datagen.flow_from_directory(\n",
    "        # This is the target directory\n",
    "        train_dir,\n",
    "        # All images will be resized to 150x150\n",
    "        target_size=(img_size, img_size),\n",
    "        batch_size=25,\n",
    "        # Since we are using multiple classes, categorical must be used\n",
    "        class_mode='categorical')\n",
    "\n",
    "validation_generator = validation_datagen.flow_from_directory(\n",
    "        validation_dir,\n",
    "        target_size=(img_size, img_size),\n",
    "        batch_size=25,\n",
    "        class_mode='categorical')\n",
    "\n",
    "#conv_base.trainable = False\n",
    "\n",
    "conv_base.trainable = True\n",
    "\n",
    "set_trainable = False\n",
    "for layer in conv_base.layers:\n",
    "    if layer.name == 'block5_conv1':\n",
    "        set_trainable = True # when name of layer is black5_conv1, set_trainable becomes True\n",
    "    if layer.name == 'block4_conv1':\n",
    "        set_trainable = True # when name of layer is black4_conv1, set_trainable becomes True\n",
    "    if layer.name == 'block3_conv1':\n",
    "        set_trainable = True # when name of layer is black3_conv1, set_trainable becomes True\n",
    "    if set_trainable:\n",
    "        layer.trainable = True\n",
    "    else:\n",
    "        layer.trainable = False\n"
   ]
  },
  {
   "cell_type": "code",
   "execution_count": 13,
   "metadata": {},
   "outputs": [],
   "source": [
    "#Compiling the Model \n",
    "\n",
    "model2.compile(loss='categorical_crossentropy', \n",
    "              optimizer = optimizers.RMSprop(lr=0.00001),\n",
    "              metrics=['acc'])"
   ]
  },
  {
   "cell_type": "code",
   "execution_count": null,
   "metadata": {},
   "outputs": [
    {
     "name": "stdout",
     "output_type": "stream",
     "text": [
      "Train for 300 steps, validate for 80 steps\n",
      "Epoch 1/30\n",
      "300/300 [==============================] - 210s 701ms/step - loss: 1.0469 - acc: 0.6733 - val_loss: 1.2772 - val_acc: 0.6185\n",
      "Epoch 2/30\n",
      "300/300 [==============================] - 209s 696ms/step - loss: 1.0287 - acc: 0.6697 - val_loss: 1.3151 - val_acc: 0.5945\n",
      "Epoch 3/30\n",
      "300/300 [==============================] - 194s 648ms/step - loss: 1.0305 - acc: 0.6744 - val_loss: 1.2582 - val_acc: 0.6230\n",
      "Epoch 4/30\n",
      "300/300 [==============================] - 200s 666ms/step - loss: 1.0003 - acc: 0.6861 - val_loss: 1.1491 - val_acc: 0.6440\n",
      "Epoch 5/30\n"
     ]
    }
   ],
   "source": [
    "# Fitting the Model \n",
    "food_model_2_history = model.fit(train_generator,steps_per_epoch=300,epochs=30,\n",
    "                                validation_data=validation_generator,validation_steps=80)"
   ]
  },
  {
   "cell_type": "code",
   "execution_count": null,
   "metadata": {},
   "outputs": [],
   "source": [
    "# Plot the Training and Validation Accuracy & Loss Scores\n",
    "\n",
    "%matplotlib inline\n",
    "\n",
    "acc = food_model_2_history.history['acc']\n",
    "val_acc = food_model_2_history.history['val_acc']\n",
    "loss = food_model_2_history.history['loss']\n",
    "val_loss = food_model_2_history.history['val_loss']\n",
    "\n",
    "epochs = range(len(acc))\n",
    "\n",
    "plt.plot(epochs, acc, 'r', label='Training acc')\n",
    "plt.plot(epochs, val_acc, 'b', label='Validation acc')\n",
    "plt.title('Training and validation accuracy')\n",
    "plt.legend()\n",
    "\n",
    "plt.figure()\n",
    "\n",
    "plt.plot(epochs, loss, 'r', label='Training loss')\n",
    "plt.plot(epochs, val_loss, 'b', label='Validation loss')\n",
    "plt.title('Training and validation loss')\n",
    "plt.legend()\n",
    "\n",
    "plt.show()\n"
   ]
  },
  {
   "cell_type": "code",
   "execution_count": null,
   "metadata": {},
   "outputs": [],
   "source": [
    "# Save the Model\n",
    "model2.save('food_model_2.h5')"
   ]
  },
  {
   "cell_type": "markdown",
   "metadata": {},
   "source": [
    "## Step 3 – Evaluate the Developed Models using Testing Images"
   ]
  },
  {
   "cell_type": "code",
   "execution_count": null,
   "metadata": {},
   "outputs": [],
   "source": [
    "# Model #1\n",
    "model.load_weights('food_model_1.h5')\n",
    "test_data = ImageDataGenerator(rescale=1./255)\n",
    "test_data_generator = test_data.flow_from_directory(test_dir, target_size=(img_size,img_size),\n",
    "                                                   batch_size=25, class_mode='categorical')\n",
    "test_loss,test_acc = model.evaluate(test_data_generator, steps =20)\n",
    "print(\"test acc: \",test_acc)\n",
    "print(\"test loss: \",test_loss)\n",
    "\n"
   ]
  },
  {
   "cell_type": "code",
   "execution_count": null,
   "metadata": {},
   "outputs": [],
   "source": [
    "# Model #2\n",
    "model2.load_weights('food_model_2.h5')\n",
    "test_data = ImageDataGenerator(rescale=1./255)\n",
    "test_data_generator = test_data.flow_from_directory(test_dir, target_size=(img_size,img_size),\n",
    "                                                   batch_size=25, class_mode='categorical')\n",
    "test_loss,test_acc = model2.evaluate(test_data_generator, steps =20)\n",
    "print(\"test acc: \",test_acc)\n",
    "print(\"test loss: \",test_loss)\n",
    "\n"
   ]
  },
  {
   "cell_type": "code",
   "execution_count": null,
   "metadata": {},
   "outputs": [],
   "source": [
    "# Save the best model\n",
    "model2.load_weights('food_model_2.h5')\n",
    "model2.save('food_model_best.h5')"
   ]
  },
  {
   "cell_type": "markdown",
   "metadata": {},
   "source": [
    "## Step 4  – Use the best model to make prediction"
   ]
  },
  {
   "cell_type": "code",
   "execution_count": null,
   "metadata": {},
   "outputs": [],
   "source": [
    "# Load the model\n",
    "model2.load_weights('food_model_best.h5')"
   ]
  },
  {
   "cell_type": "code",
   "execution_count": null,
   "metadata": {},
   "outputs": [],
   "source": [
    "# Load the food list (in alphabetical order)\n",
    "with open('13.txt', 'r') as f: # the .txt file which contains a list of food assigned to you\n",
    "    x = f.readlines()\n",
    "food_list =[]\n",
    "for item in x:\n",
    "    food_list.append(item.strip('\\n'))\n",
    "food_list = sorted(food_list) # food_list needs to be sorted alphabetically before feed into prediction() function\n",
    "print(food_list)"
   ]
  },
  {
   "cell_type": "code",
   "execution_count": null,
   "metadata": {},
   "outputs": [],
   "source": [
    "# Define some related functions for image process and model prediction\n",
    "from tensorflow.keras.preprocessing.image import load_img, img_to_array\n",
    "def image_process(img):\n",
    "    image = load_img(img, target_size =(img_size, img_size))\n",
    "    image_array = img_to_array(image)/255\n",
    "    return image_array\n",
    "\n",
    "import pandas as pd\n",
    "def prediction(model, img_array, items_l):\n",
    "    prob = model.predict(img_array.reshape(1,img_size,img_size,3))\n",
    "    pro_df = pd.DataFrame(prob, columns = items_l)\n",
    "    result = items_l[np.argmax(prob)]\n",
    "    return pro_df, result"
   ]
  },
  {
   "cell_type": "code",
   "execution_count": null,
   "metadata": {},
   "outputs": [],
   "source": [
    "# Make prediction for the image you downloaded from internet\n",
    "img1 = 'gyozatest.jpg' # the first picture you downloaded from internet, which contains a type of food in your food list\n",
    "img2 = 'tartaretest.jpg' # the second picture you downloaded from internet, which contains a type of food in your food list\n",
    "img3 = 'omelettetest.jpg' # the third picture you downloaded from internet, which contains a type of food in your food list\n",
    "plt.imshow(plt.imread(img1))\n",
    "plt.show()\n",
    "img1_array = image_process(img1)\n",
    "prob1_df, result1 = prediction(model2, img1_array, food_list)\n",
    "print('The prediction is: ', result1, '\\n\\n', prob1_df)\n",
    "plt.imshow(plt.imread(img2))\n",
    "plt.show()\n",
    "img2_array = image_process(img2)\n",
    "prob2_df, result2 = prediction(model2, img2_array, food_list)\n",
    "print('The prediction is: ', result2, '\\n\\n', prob2_df)\n",
    "plt.imshow(plt.imread(img3))\n",
    "plt.show()\n",
    "img3_array = image_process(img3)\n",
    "prob3_df, result3 = prediction(model2, img3_array, food_list)\n",
    "print('The prediction is: ', result3, '\\n\\n', prob3_df)\n"
   ]
  }
 ],
 "metadata": {
  "kernelspec": {
   "display_name": "Python 3",
   "language": "python",
   "name": "python3"
  },
  "language_info": {
   "codemirror_mode": {
    "name": "ipython",
    "version": 3
   },
   "file_extension": ".py",
   "mimetype": "text/x-python",
   "name": "python",
   "nbconvert_exporter": "python",
   "pygments_lexer": "ipython3",
   "version": "3.7.10"
  }
 },
 "nbformat": 4,
 "nbformat_minor": 2
}
